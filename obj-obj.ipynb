{
 "cells": [
  {
   "cell_type": "markdown",
   "id": "45331757-7e9f-4f55-bb59-fa895d581711",
   "metadata": {},
   "source": [
    "## Exclude extraneous properties"
   ]
  },
  {
   "cell_type": "code",
   "execution_count": 44,
   "id": "52a2b64c-cb35-4ab4-997a-23dc3aa0692e",
   "metadata": {},
   "outputs": [
    {
     "name": "stdout",
     "output_type": "stream",
     "text": [
      "{ id: \u001b[33m1\u001b[39m, name: \u001b[32m'李四'\u001b[39m, age: \u001b[33m20\u001b[39m, invalid: \u001b[33mfalse\u001b[39m }\n",
      "{ id: \u001b[33m1\u001b[39m, name: \u001b[32m'李四'\u001b[39m, age: \u001b[33m20\u001b[39m, invalid: \u001b[33mfalse\u001b[39m }\n"
     ]
    }
   ],
   "source": [
    "interface UserDto {\n",
    "  id: number;\n",
    "  name: string;\n",
    "  age: number;\n",
    "}\n",
    "\n",
    "interface UpdateUserDto {\n",
    "  id: number;\n",
    "  name: string;\n",
    "  invalid: boolean;\n",
    "}\n",
    "\n",
    "const user: UserDto = {\n",
    "  id: 1,\n",
    "  name: '张三',\n",
    "  age: 20,\n",
    "};\n",
    "\n",
    "const updateUser: UpdateUserDto = {\n",
    "  id: 1,\n",
    "  name: '李四',\n",
    "  invalid: false,\n",
    "};\n",
    "\n",
    "const u1: UserDto = { ...user, ...updateUser };\n",
    "const u2 = Object.assign({ ...user }, updateUser);\n",
    "\n",
    "console.log(u1);\n",
    "console.log(u2);"
   ]
  },
  {
   "cell_type": "code",
   "execution_count": 47,
   "id": "622a9184-d453-4f8a-8d77-8a56d6666b97",
   "metadata": {},
   "outputs": [],
   "source": [
    "function apply<T, S>(t: T, s: S): T {\n",
    "  const properties = Object.keys(t);\n",
    "    \n",
    "  const o = Object.fromEntries(Object.entries(s).filter((x) => properties.includes(x[0])));\n",
    "    \n",
    "  return { ...t, ...o } as T;\n",
    "}"
   ]
  },
  {
   "cell_type": "code",
   "execution_count": 48,
   "id": "dcd96960-137b-4f64-a89a-ba1075656ab3",
   "metadata": {},
   "outputs": [
    {
     "name": "stdout",
     "output_type": "stream",
     "text": [
      "{ id: \u001b[33m1\u001b[39m, name: \u001b[32m'李四'\u001b[39m, age: \u001b[33m20\u001b[39m }\n"
     ]
    }
   ],
   "source": [
    "apply(user, updateUser);"
   ]
  }
 ],
 "metadata": {
  "kernelspec": {
   "display_name": "TypeScript",
   "language": "typescript",
   "name": "tslab"
  },
  "language_info": {
   "codemirror_mode": {
    "mode": "typescript",
    "name": "javascript",
    "typescript": true
   },
   "file_extension": ".ts",
   "mimetype": "text/typescript",
   "name": "typescript",
   "version": "3.7.2"
  }
 },
 "nbformat": 4,
 "nbformat_minor": 5
}
