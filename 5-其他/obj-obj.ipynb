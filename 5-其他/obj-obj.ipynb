{
 "cells": [
  {
   "cell_type": "markdown",
   "id": "45331757-7e9f-4f55-bb59-fa895d581711",
   "metadata": {},
   "source": [
    "## Object-Object with exclude extraneous properties"
   ]
  },
  {
   "cell_type": "code",
   "execution_count": 12,
   "id": "dc9cd0df-46ae-4e38-9434-8ad14bdcdecf",
   "metadata": {},
   "outputs": [],
   "source": [
    "interface User {\n",
    "  id: number;\n",
    "  name: string;\n",
    "  age: number;\n",
    "}\n",
    "\n",
    "interface UpdateUserDto {\n",
    "  id: number;\n",
    "  name: string;\n",
    "  invalid: boolean;\n",
    "}\n",
    "\n",
    "const user: User = {\n",
    "  id: 1,\n",
    "  name: '张三',\n",
    "  age: 20,\n",
    "};\n",
    "\n",
    "const updateUser: UpdateUserDto = {\n",
    "  id: 1,\n",
    "  name: '李四',\n",
    "  invalid: false,\n",
    "};"
   ]
  },
  {
   "cell_type": "code",
   "execution_count": 13,
   "id": "b0ce6752-4365-42c5-865e-8e8928f37436",
   "metadata": {},
   "outputs": [
    {
     "name": "stdout",
     "output_type": "stream",
     "text": [
      "{ id: \u001b[33m1\u001b[39m, name: \u001b[32m'李四'\u001b[39m, age: \u001b[33m20\u001b[39m, invalid: \u001b[33mfalse\u001b[39m }\n",
      "{ id: \u001b[33m1\u001b[39m, name: \u001b[32m'李四'\u001b[39m, age: \u001b[33m20\u001b[39m, invalid: \u001b[33mfalse\u001b[39m }\n"
     ]
    }
   ],
   "source": [
    "const u1: User = { ...user, ...updateUser };\n",
    "const u2 = Object.assign({ ...user }, updateUser);\n",
    "\n",
    "console.log(u1);\n",
    "console.log(u2);"
   ]
  },
  {
   "cell_type": "markdown",
   "id": "ecbed9b8-4b2b-4d66-b5fa-076af811f1eb",
   "metadata": {},
   "source": [
    "Manually remove unwanted properties:"
   ]
  },
  {
   "cell_type": "code",
   "execution_count": 14,
   "id": "645e2347-0b5d-45fa-b85a-e68f3fb3b40a",
   "metadata": {},
   "outputs": [
    {
     "name": "stdout",
     "output_type": "stream",
     "text": [
      "{ id: \u001b[33m1\u001b[39m, name: \u001b[32m'李四'\u001b[39m, age: \u001b[33m20\u001b[39m }\n",
      "{ id: \u001b[33m1\u001b[39m, name: \u001b[32m'李四'\u001b[39m, age: \u001b[33m20\u001b[39m }\n"
     ]
    }
   ],
   "source": [
    "delete u1['invalid'];\n",
    "delete u2['invalid'];\n",
    "\n",
    "console.log(u1);\n",
    "console.log(u2);"
   ]
  },
  {
   "cell_type": "code",
   "execution_count": 15,
   "id": "622a9184-d453-4f8a-8d77-8a56d6666b97",
   "metadata": {},
   "outputs": [],
   "source": [
    "function assignNew<T, S>(t: T, s: S): T {\n",
    "  const properties = Object.keys(t);\n",
    "    \n",
    "  const o = Object.fromEntries(Object.entries(s).filter((x) => properties.includes(x[0])));\n",
    "    \n",
    "  return { ...t, ...o } as T;\n",
    "}"
   ]
  },
  {
   "cell_type": "code",
   "execution_count": 16,
   "id": "dcd96960-137b-4f64-a89a-ba1075656ab3",
   "metadata": {},
   "outputs": [
    {
     "name": "stdout",
     "output_type": "stream",
     "text": [
      "{ id: \u001b[33m1\u001b[39m, name: \u001b[32m'李四'\u001b[39m, age: \u001b[33m20\u001b[39m }\n"
     ]
    }
   ],
   "source": [
    "assignNew(user, updateUser);"
   ]
  },
  {
   "cell_type": "markdown",
   "id": "606c95f9-1527-4d4d-925f-ee787d219a4a",
   "metadata": {},
   "source": [
    "The user object will not change at all:"
   ]
  },
  {
   "cell_type": "code",
   "execution_count": 17,
   "id": "1eae452e-1288-4b0b-ab68-e442b15cafb5",
   "metadata": {},
   "outputs": [
    {
     "name": "stdout",
     "output_type": "stream",
     "text": [
      "{ id: \u001b[33m1\u001b[39m, name: \u001b[32m'张三'\u001b[39m, age: \u001b[33m20\u001b[39m }\n"
     ]
    }
   ],
   "source": [
    "user;"
   ]
  },
  {
   "cell_type": "markdown",
   "id": "e8efd5ed-ba51-4c51-8029-22f34213b5b3",
   "metadata": {},
   "source": [
    "Change target object."
   ]
  },
  {
   "cell_type": "code",
   "execution_count": 18,
   "id": "0e8f3b9b-4cec-4999-93f5-487ae7c55772",
   "metadata": {},
   "outputs": [],
   "source": [
    "function assign<T, S>(t: T, s: S): T {\n",
    "  const properties = Object.keys(t);\n",
    "    \n",
    "  const o = Object.fromEntries(Object.entries(s).filter((x) => properties.includes(x[0])));\n",
    "    \n",
    "  return Object.assign(t, o);\n",
    "}"
   ]
  },
  {
   "cell_type": "code",
   "execution_count": 19,
   "id": "54984a26-f0c4-48fb-a118-bd92acdc0b60",
   "metadata": {},
   "outputs": [
    {
     "name": "stdout",
     "output_type": "stream",
     "text": [
      "{ id: \u001b[33m1\u001b[39m, name: \u001b[32m'李四'\u001b[39m, age: \u001b[33m20\u001b[39m }\n"
     ]
    }
   ],
   "source": [
    "assign(user, updateUser);"
   ]
  },
  {
   "cell_type": "code",
   "execution_count": 20,
   "id": "27b3ddac-3841-49c5-be00-55e262655a82",
   "metadata": {},
   "outputs": [
    {
     "name": "stdout",
     "output_type": "stream",
     "text": [
      "{ id: \u001b[33m1\u001b[39m, name: \u001b[32m'李四'\u001b[39m, age: \u001b[33m20\u001b[39m }\n"
     ]
    }
   ],
   "source": [
    "user;"
   ]
  },
  {
   "cell_type": "markdown",
   "id": "d257fc98-7a4b-4b99-a12c-cc4c181cb49f",
   "metadata": {},
   "source": [
    "⚠ Properties that cannot be adapted to nullable."
   ]
  },
  {
   "cell_type": "code",
   "execution_count": 21,
   "id": "194da6ee-989e-40fd-9e7e-c573a8e6bc7e",
   "metadata": {},
   "outputs": [],
   "source": [
    "interface User {\n",
    "  id: number;\n",
    "  name: string;\n",
    "  age: number;\n",
    "  root?: boolean | undefined;\n",
    "}\n",
    "\n",
    "interface UpdateUserDto {\n",
    "  id: number;\n",
    "  name: string;\n",
    "  invalid: boolean;\n",
    "  root?: boolean | undefined;\n",
    "}\n",
    "\n",
    "const user: User = {\n",
    "  id: 1,\n",
    "  name: '张三',\n",
    "  age: 20,\n",
    "};\n",
    "\n",
    "const updateUser: UpdateUserDto = {\n",
    "  id: 1,\n",
    "  name: '李四',\n",
    "  invalid: false,\n",
    "  root: true,\n",
    "};"
   ]
  },
  {
   "cell_type": "code",
   "execution_count": 22,
   "id": "0acf8607-eee6-495c-b84d-e4ccd3246b37",
   "metadata": {},
   "outputs": [
    {
     "name": "stdout",
     "output_type": "stream",
     "text": [
      "{ id: \u001b[33m1\u001b[39m, name: \u001b[32m'李四'\u001b[39m, age: \u001b[33m20\u001b[39m }\n"
     ]
    }
   ],
   "source": [
    "assignNew(user, updateUser);"
   ]
  },
  {
   "cell_type": "markdown",
   "id": "3ea571fe-43b4-4157-bddb-9880dfced02c",
   "metadata": {},
   "source": [
    "You can see that the root property is missing.\n",
    "\n",
    "Due to the nature of javascript, there is no way to reach the expected."
   ]
  }
 ],
 "metadata": {
  "kernelspec": {
   "display_name": "TypeScript",
   "language": "typescript",
   "name": "tslab"
  },
  "language_info": {
   "codemirror_mode": {
    "mode": "typescript",
    "name": "javascript",
    "typescript": true
   },
   "file_extension": ".ts",
   "mimetype": "text/typescript",
   "name": "typescript",
   "version": "3.7.2"
  }
 },
 "nbformat": 4,
 "nbformat_minor": 5
}
