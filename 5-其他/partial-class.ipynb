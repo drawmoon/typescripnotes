{
 "cells": [
  {
   "cell_type": "markdown",
   "metadata": {},
   "source": [
    "## Partial Class"
   ]
  },
  {
   "cell_type": "code",
   "execution_count": 5,
   "metadata": {},
   "outputs": [],
   "source": [
    "// import { getByName } from './user-manager.name.ts'\n",
    "\n",
    "class UserManager {    \n",
    "  public getAll(): string[] {\n",
    "    return ['Li Anais'];\n",
    "  }\n",
    "\n",
    "  public getById(id: string): string {\n",
    "    return 'Li Anais';\n",
    "  }\n",
    "\n",
    "  public getByName = getByName;\n",
    "}\n",
    "\n",
    "\n",
    "// import { UserManager } from './user-manager.ts';\n",
    "\n",
    "function getByName(this: UserManager, name: string): string {\n",
    "  return 'Li Anais';\n",
    "}"
   ]
  },
  {
   "cell_type": "code",
   "execution_count": 6,
   "metadata": {},
   "outputs": [
    {
     "name": "stdout",
     "output_type": "stream",
     "text": [
      "Li Anais\n"
     ]
    }
   ],
   "source": [
    "const userManager = new UserManager();\n",
    "\n",
    "userManager.getByName('Li Anais');"
   ]
  },
  {
   "cell_type": "markdown",
   "metadata": {},
   "source": [
    "但无法调用 `private` 的属性"
   ]
  },
  {
   "cell_type": "code",
   "execution_count": 11,
   "metadata": {},
   "outputs": [
    {
     "name": "stderr",
     "output_type": "stream",
     "text": [
      "10:15 - Property 'profile' is private and only accessible within class 'UserManager'.\n",
      "14:8 - Property 'internal' is private and only accessible within class 'UserManager'.\n"
     ]
    }
   ],
   "source": [
    "class UserManager {\n",
    "  private profile = 'Admin';\n",
    "    \n",
    "  private internal(profile: string): void {\n",
    "    this.profile = profile;\n",
    "  }\n",
    "}\n",
    "\n",
    "function getProfile(this: UserManager): string {\n",
    "  return this.profile;\n",
    "}\n",
    "\n",
    "function setProfile(this: UserManager): void {\n",
    "  this.internal('Li Anais');\n",
    "}"
   ]
  }
 ],
 "metadata": {
  "kernelspec": {
   "display_name": "TypeScript",
   "language": "typescript",
   "name": "tslab"
  },
  "language_info": {
   "codemirror_mode": {
    "mode": "typescript",
    "name": "javascript",
    "typescript": true
   },
   "file_extension": ".ts",
   "mimetype": "text/typescript",
   "name": "typescript",
   "version": "3.7.2"
  }
 },
 "nbformat": 4,
 "nbformat_minor": 4
}
