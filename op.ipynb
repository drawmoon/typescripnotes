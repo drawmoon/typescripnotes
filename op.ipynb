{
 "cells": [
  {
   "cell_type": "markdown",
   "id": "2ab5b7e8-9e28-4131-9581-d8aa33df02d3",
   "metadata": {},
   "source": [
    "`&&` 运算符\n",
    "\n",
    "左侧值结果为 `true` 时，则返回右侧值，否则返回左侧值。"
   ]
  },
  {
   "cell_type": "code",
   "execution_count": 1,
   "id": "66bc3ed5-1e93-413c-8780-70c097bb2c55",
   "metadata": {},
   "outputs": [
    {
     "name": "stdout",
     "output_type": "stream",
     "text": [
      "Apple\n"
     ]
    }
   ],
   "source": [
    "const arr = ['Apple', 'Orange'];\n",
    "\n",
    "arr && arr[0];"
   ]
  },
  {
   "cell_type": "markdown",
   "id": "97a5e9b1-4d3d-494d-b4e9-ffa00304e2ba",
   "metadata": {},
   "source": [
    "`||` 运算符\n",
    "\n",
    "左侧值结果为 `false` 时，则返回右侧值。判断结果是否为 `false` 不仅包括 `undefined` 和 `null`，还包括 `NaN`、 `false`、 `''` 和 `0`"
   ]
  },
  {
   "cell_type": "code",
   "execution_count": 2,
   "id": "23f81fc5-f4cc-4478-a8b9-312f18256894",
   "metadata": {},
   "outputs": [
    {
     "name": "stdout",
     "output_type": "stream",
     "text": [
      "default\n",
      "default\n",
      "default\n",
      "default\n",
      "default\n",
      "default\n",
      "Apple\n"
     ]
    }
   ],
   "source": [
    "const arr = [undefined, null, NaN, '', 0, false, 'Apple'];\n",
    "\n",
    "for (const i of arr) {\n",
    "  console.log(i || 'default');\n",
    "}"
   ]
  },
  {
   "cell_type": "markdown",
   "id": "ffe57077-2b9c-42c9-af66-5ab3cf3ec9ac",
   "metadata": {},
   "source": [
    "`??` 运算符\n",
    "\n",
    "左侧值结果为 `false` 时，则返回右侧值。判断结果是否为 `false` 仅包括 `undefined` 和 `null`"
   ]
  },
  {
   "cell_type": "code",
   "execution_count": 3,
   "id": "c7b2c806-5464-4061-a952-3c97e7b7912a",
   "metadata": {},
   "outputs": [
    {
     "name": "stdout",
     "output_type": "stream",
     "text": [
      "default\n",
      "default\n",
      "\u001b[33mNaN\u001b[39m\n",
      "\n",
      "\u001b[33m0\u001b[39m\n",
      "\u001b[33mfalse\u001b[39m\n",
      "Apple\n"
     ]
    }
   ],
   "source": [
    "for (const i of arr) {\n",
    "  console.log(i ?? 'default');\n",
    "}"
   ]
  }
 ],
 "metadata": {
  "kernelspec": {
   "display_name": "TypeScript",
   "language": "typescript",
   "name": "tslab"
  },
  "language_info": {
   "codemirror_mode": {
    "mode": "typescript",
    "name": "javascript",
    "typescript": true
   },
   "file_extension": ".ts",
   "mimetype": "text/typescript",
   "name": "typescript",
   "version": "3.7.2"
  }
 },
 "nbformat": 4,
 "nbformat_minor": 5
}
