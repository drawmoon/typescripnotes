{
 "cells": [
  {
   "cell_type": "markdown",
   "id": "21053c9d-5062-4c49-be57-dabf7953388c",
   "metadata": {},
   "source": [
    "方法装饰器:"
   ]
  },
  {
   "cell_type": "code",
   "execution_count": 1,
   "id": "4967ea6c-df6b-4d93-8bc2-2957c7995ad8",
   "metadata": {},
   "outputs": [],
   "source": [
    "function catchError() {\n",
    "  return function (target: any, propertyKey: string, descriptor: PropertyDescriptor): void {\n",
    "    const original = descriptor.value;\n",
    "    descriptor.value = function () {\n",
    "      try {\n",
    "        original.apply(this);\n",
    "      } catch (e) {\n",
    "        if (e instanceof Error) {\n",
    "          console.log(e.message);\n",
    "        } else {\n",
    "          console.log('Unkown error');\n",
    "        }\n",
    "      }\n",
    "    };\n",
    "  };\n",
    "}"
   ]
  },
  {
   "cell_type": "code",
   "execution_count": 2,
   "id": "ec798366-5d6c-4f26-9595-27454b005aee",
   "metadata": {},
   "outputs": [],
   "source": [
    "class MyClass {\n",
    "  @catchError()\n",
    "  sayhi() {\n",
    "    console.log('Hello, World!');\n",
    "    throw new Error('--ERROR--');\n",
    "  }\n",
    "}"
   ]
  },
  {
   "cell_type": "code",
   "execution_count": 3,
   "id": "6b6ef33f-ae1c-4636-b064-0c5a726b7408",
   "metadata": {},
   "outputs": [
    {
     "name": "stdout",
     "output_type": "stream",
     "text": [
      "Hello, World!\n",
      "--ERROR--\n"
     ]
    }
   ],
   "source": [
    "const myClass = new MyClass();\n",
    "\n",
    "myClass.sayhi();"
   ]
  }
 ],
 "metadata": {
  "kernelspec": {
   "display_name": "TypeScript",
   "language": "typescript",
   "name": "tslab"
  },
  "language_info": {
   "codemirror_mode": {
    "mode": "typescript",
    "name": "javascript",
    "typescript": true
   },
   "file_extension": ".ts",
   "mimetype": "text/typescript",
   "name": "typescript",
   "version": "3.7.2"
  }
 },
 "nbformat": 4,
 "nbformat_minor": 5
}
