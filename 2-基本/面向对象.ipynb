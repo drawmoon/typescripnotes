{
 "cells": [
  {
   "cell_type": "code",
   "execution_count": 1,
   "metadata": {},
   "outputs": [],
   "source": [
    "class Fruit {\n",
    "  constructor(private price: number) {}\n",
    "    \n",
    "  public getPrice(): number {\n",
    "    return this.price;  \n",
    "  }\n",
    "    \n",
    "  protected date: Date;\n",
    "}"
   ]
  },
  {
   "cell_type": "markdown",
   "metadata": {},
   "source": [
    "继承："
   ]
  },
  {
   "cell_type": "code",
   "execution_count": 7,
   "metadata": {},
   "outputs": [],
   "source": [
    "class Apple extends Fruit {\n",
    "  public producer: string;\n",
    "}"
   ]
  },
  {
   "cell_type": "code",
   "execution_count": 8,
   "metadata": {},
   "outputs": [
    {
     "name": "stdout",
     "output_type": "stream",
     "text": [
      "Apple { price: \u001b[33m0.56\u001b[39m, producer: \u001b[32m'新疆'\u001b[39m }\n"
     ]
    }
   ],
   "source": [
    "const apple = new Apple(0.56);\n",
    "apple.producer = '新疆';\n",
    "\n",
    "apple;"
   ]
  },
  {
   "cell_type": "markdown",
   "metadata": {},
   "source": [
    "重写："
   ]
  },
  {
   "cell_type": "code",
   "execution_count": 9,
   "metadata": {},
   "outputs": [],
   "source": [
    "class Apple extends Fruit {\n",
    "  // 重写构造函数\n",
    "  constructor(price: number, public producer: string) {\n",
    "    super(price);\n",
    "  }\n",
    "    \n",
    "  // 重写父类的函数\n",
    "  getPrice(): number {\n",
    "    return super.getPrice();  \n",
    "  }\n",
    "}"
   ]
  },
  {
   "cell_type": "code",
   "execution_count": 10,
   "metadata": {},
   "outputs": [
    {
     "name": "stdout",
     "output_type": "stream",
     "text": [
      "Apple { price: \u001b[33m1.68\u001b[39m, producer: \u001b[32m'新疆'\u001b[39m }\n"
     ]
    }
   ],
   "source": [
    "new Apple(1.68, '新疆');"
   ]
  },
  {
   "cell_type": "markdown",
   "metadata": {},
   "source": [
    "重载："
   ]
  },
  {
   "cell_type": "code",
   "execution_count": 11,
   "metadata": {},
   "outputs": [],
   "source": [
    "// test data\n",
    "\n",
    "interface User { id: number; name: string; phone: string; }\n",
    "\n",
    "const users: User[] = [\n",
    "  { id: 1, name: '张三', phone: '15611111111' },\n",
    "  { id: 2, name: '李四', phone: '15622222222' }\n",
    "];"
   ]
  },
  {
   "cell_type": "code",
   "execution_count": 12,
   "metadata": {},
   "outputs": [],
   "source": [
    "class UserManager {\n",
    "  public get(id: number): User;\n",
    "  \n",
    "  public get(phone: string): User;\n",
    "  \n",
    "  public get(p: number | string): User {\n",
    "    if (typeof p === 'number') {\n",
    "      return users.find((x) => x.id === p);\n",
    "    }\n",
    "    \n",
    "    return users.find((x) => x.phone === p);\n",
    "  }\n",
    "}"
   ]
  },
  {
   "cell_type": "code",
   "execution_count": 14,
   "metadata": {},
   "outputs": [
    {
     "name": "stdout",
     "output_type": "stream",
     "text": [
      "{ id: \u001b[33m1\u001b[39m, name: \u001b[32m'张三'\u001b[39m, phone: \u001b[32m'15611111111'\u001b[39m }\n"
     ]
    }
   ],
   "source": [
    "const manager = new UserManager();\n",
    "\n",
    "manager.get(1);"
   ]
  },
  {
   "cell_type": "code",
   "execution_count": 15,
   "metadata": {},
   "outputs": [
    {
     "name": "stdout",
     "output_type": "stream",
     "text": [
      "{ id: \u001b[33m2\u001b[39m, name: \u001b[32m'李四'\u001b[39m, phone: \u001b[32m'15622222222'\u001b[39m }\n"
     ]
    }
   ],
   "source": [
    "const manager = new UserManager();\n",
    "\n",
    "manager.get('15622222222');"
   ]
  },
  {
   "cell_type": "markdown",
   "metadata": {},
   "source": [
    "抽象类："
   ]
  },
  {
   "cell_type": "code",
   "execution_count": 16,
   "metadata": {},
   "outputs": [],
   "source": [
    "abstract class People {\n",
    "  public abstract name: string;\n",
    "    \n",
    "  public abstract jog(): void;\n",
    "}"
   ]
  },
  {
   "cell_type": "code",
   "execution_count": 17,
   "metadata": {},
   "outputs": [],
   "source": [
    "class Child extends People {\n",
    "  constructor(private childName: string) {\n",
    "    super();\n",
    "  }\n",
    "    \n",
    "  public get name(): string {\n",
    "    return this.childName;\n",
    "  }\n",
    "    \n",
    "  public jog(): void {\n",
    "      \n",
    "  }\n",
    "}"
   ]
  },
  {
   "cell_type": "code",
   "execution_count": 18,
   "metadata": {},
   "outputs": [
    {
     "name": "stdout",
     "output_type": "stream",
     "text": [
      "Child { childName: \u001b[32m'李维维'\u001b[39m }\n"
     ]
    }
   ],
   "source": [
    "const child = new Child('李维维');\n",
    "\n",
    "child;"
   ]
  }
 ],
 "metadata": {
  "kernelspec": {
   "display_name": "TypeScript",
   "language": "typescript",
   "name": "tslab"
  },
  "language_info": {
   "codemirror_mode": {
    "mode": "typescript",
    "name": "javascript",
    "typescript": true
   },
   "file_extension": ".ts",
   "mimetype": "text/typescript",
   "name": "typescript",
   "version": "3.7.2"
  }
 },
 "nbformat": 4,
 "nbformat_minor": 4
}
