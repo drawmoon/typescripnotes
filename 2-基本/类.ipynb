{
 "cells": [
  {
   "cell_type": "code",
   "execution_count": 2,
   "id": "87f319b7-e955-4256-a7d8-2015f9584269",
   "metadata": {},
   "outputs": [],
   "source": [
    "class MyClass {    \n",
    "  public sayhi(): void {\n",
    "    console.log('Hello, World!');\n",
    "  }\n",
    "}"
   ]
  },
  {
   "cell_type": "code",
   "execution_count": 3,
   "id": "b09dbd07-ae90-489b-8c37-1a72e7041c92",
   "metadata": {},
   "outputs": [
    {
     "name": "stdout",
     "output_type": "stream",
     "text": [
      "Hello, World!\n"
     ]
    }
   ],
   "source": [
    "const myClass = new MyClass();\n",
    "\n",
    "myClass.sayhi();"
   ]
  },
  {
   "cell_type": "markdown",
   "id": "be228b31-6adc-437f-89ab-d17151c37b02",
   "metadata": {},
   "source": [
    "### 成员访问控制"
   ]
  },
  {
   "cell_type": "code",
   "execution_count": 16,
   "id": "a201c244-3c96-4712-8c46-27b14cf6f693",
   "metadata": {},
   "outputs": [],
   "source": [
    "class MyClass {\n",
    "  // 公共成员\n",
    "  public publicMember: string;\n",
    "    \n",
    "  // 受保护成员\n",
    "  protected protectedMember: string;\n",
    "    \n",
    "  // 私有成员\n",
    "  private privateMember: string;\n",
    "}"
   ]
  },
  {
   "cell_type": "markdown",
   "id": "9a11adac-7e25-4dcb-86b8-b1c1411fc61c",
   "metadata": {},
   "source": [
    "### 静态成员"
   ]
  },
  {
   "cell_type": "code",
   "execution_count": 17,
   "id": "517243e3-0780-4243-aab2-09f3527e9efb",
   "metadata": {},
   "outputs": [],
   "source": [
    "class MyClass {\n",
    "  public static validate(): void {\n",
    "    console.log('successful!');\n",
    "  }\n",
    "}"
   ]
  },
  {
   "cell_type": "code",
   "execution_count": 18,
   "id": "68a81297-3f0d-49b3-bbd9-0cda832f28e6",
   "metadata": {},
   "outputs": [
    {
     "name": "stdout",
     "output_type": "stream",
     "text": [
      "successful!\n"
     ]
    }
   ],
   "source": [
    "MyClass.validate();"
   ]
  },
  {
   "cell_type": "markdown",
   "id": "5e21678e-10df-43dd-98c7-b10915f9520e",
   "metadata": {},
   "source": [
    "### 只读成员"
   ]
  },
  {
   "cell_type": "code",
   "execution_count": 19,
   "id": "9515d660-0d2d-47a1-8b32-80046a852dea",
   "metadata": {},
   "outputs": [],
   "source": [
    "class MyClass {\n",
    "  public readonly name;\n",
    "    \n",
    "  constructor(name: string) {\n",
    "    this.name = name;\n",
    "  }\n",
    "}"
   ]
  },
  {
   "cell_type": "code",
   "execution_count": 20,
   "id": "2aa0f4bd-caa7-4995-9622-bbe083130dd0",
   "metadata": {},
   "outputs": [
    {
     "name": "stdout",
     "output_type": "stream",
     "text": [
      "MyClass { name: \u001b[32m'李由友'\u001b[39m }\n"
     ]
    }
   ],
   "source": [
    "new MyClass('李由友');"
   ]
  },
  {
   "cell_type": "markdown",
   "id": "fc447369-cefd-437d-97cd-0472b8a236df",
   "metadata": {},
   "source": [
    "### Getter or Setter"
   ]
  },
  {
   "cell_type": "code",
   "execution_count": 12,
   "id": "223dd339-2187-4fe0-aac5-9ccd54760764",
   "metadata": {},
   "outputs": [],
   "source": [
    "class User {\n",
    "  constructor(\n",
    "    public firstName: string,\n",
    "    public lastName: string\n",
    "  ) {}\n",
    "    \n",
    "  // getter\n",
    "  public get fullName(): string {\n",
    "    return this.firstName + this.lastName;\n",
    "  }\n",
    "}"
   ]
  },
  {
   "cell_type": "code",
   "execution_count": 13,
   "id": "20bc0524-0e2c-43cc-8cf2-85b003291f16",
   "metadata": {},
   "outputs": [
    {
     "name": "stdout",
     "output_type": "stream",
     "text": [
      "李由友\n"
     ]
    }
   ],
   "source": [
    "const user = new User('李', '由友');\n",
    "\n",
    "user.fullName;"
   ]
  },
  {
   "cell_type": "code",
   "execution_count": 14,
   "id": "79de72d2",
   "metadata": {},
   "outputs": [],
   "source": [
    "class User {\n",
    "  private _name: string;\n",
    "\n",
    "  // setter\n",
    "  public set name(value: string) {\n",
    "    this._name = value;\n",
    "  }\n",
    "}"
   ]
  },
  {
   "cell_type": "code",
   "execution_count": 15,
   "id": "1480d421-989b-4545-9ec6-b18e5786b78c",
   "metadata": {},
   "outputs": [
    {
     "name": "stdout",
     "output_type": "stream",
     "text": [
      "User { _name: \u001b[32m'李由友'\u001b[39m }\n"
     ]
    }
   ],
   "source": [
    "const user = new User();\n",
    "user.name = '李由友';\n",
    "\n",
    "user;"
   ]
  }
 ],
 "metadata": {
  "kernelspec": {
   "display_name": "TypeScript",
   "language": "typescript",
   "name": "tslab"
  },
  "language_info": {
   "codemirror_mode": {
    "mode": "typescript",
    "name": "javascript",
    "typescript": true
   },
   "file_extension": ".ts",
   "mimetype": "text/typescript",
   "name": "typescript",
   "version": "3.7.2"
  }
 },
 "nbformat": 4,
 "nbformat_minor": 5
}
