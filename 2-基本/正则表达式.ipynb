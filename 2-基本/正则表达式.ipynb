{
 "cells": [
  {
   "cell_type": "markdown",
   "id": "2ef64e22-a382-4253-a38e-c7c8dc763b5b",
   "metadata": {},
   "source": [
    "搜索指定字符串，返回搜索结果的数组："
   ]
  },
  {
   "cell_type": "code",
   "execution_count": 2,
   "id": "bdd9c10a-d7c3-40b9-a63e-c764a62feaca",
   "metadata": {},
   "outputs": [
    {
     "name": "stdout",
     "output_type": "stream",
     "text": [
      "[ \u001b[32m'a'\u001b[39m, index: \u001b[33m0\u001b[39m, input: \u001b[32m'a,aaaaaaaabc'\u001b[39m, groups: \u001b[90mundefined\u001b[39m ]\n",
      "[ \u001b[32m'aaaaaaaa'\u001b[39m, index: \u001b[33m2\u001b[39m, input: \u001b[32m'a,aaaaaaaabc'\u001b[39m, groups: \u001b[90mundefined\u001b[39m ]\n"
     ]
    }
   ],
   "source": [
    "const str = 'a,aaaaaaaabc';\n",
    "\n",
    "const pattern = /a+/gm;\n",
    "\n",
    "let arr;\n",
    "while ((arr = pattern.exec(str)) != null) {\n",
    "  console.log(arr);  \n",
    "}"
   ]
  },
  {
   "cell_type": "markdown",
   "id": "98f3780c-fbda-4a16-a588-c88e56eb06f6",
   "metadata": {},
   "source": [
    "替换收索到的值："
   ]
  },
  {
   "cell_type": "code",
   "execution_count": 4,
   "id": "296febd5-df03-42d6-95d2-1e2680a01f0b",
   "metadata": {},
   "outputs": [
    {
     "name": "stdout",
     "output_type": "stream",
     "text": [
      "\n",
      "<figure class=\"image\">\n",
      "  <img src=\"file:///C:/fake/image0.png\">\n",
      "  <figcaption>3D图形</figcaption>\n",
      "</figure>\n",
      "\n"
     ]
    }
   ],
   "source": [
    "const str = `\n",
    "<figure class=3D\"image\">\n",
    "  <img src=3D\"file:///C:/fake/image0.png\">\n",
    "  <figcaption>3D图形</figcaption>\n",
    "</figure>\n",
    "`;\n",
    "\n",
    "const pattern = /<[^>]*=(?<stain>3D)+\\\"\\S+\\\"\\s*\\/?>/gm;\n",
    "\n",
    "str.replace(pattern, (sub, stain) => {\n",
    "  return sub.replace(stain, '');\n",
    "});"
   ]
  }
 ],
 "metadata": {
  "kernelspec": {
   "display_name": "TypeScript",
   "language": "typescript",
   "name": "tslab"
  },
  "language_info": {
   "codemirror_mode": {
    "mode": "typescript",
    "name": "javascript",
    "typescript": true
   },
   "file_extension": ".ts",
   "mimetype": "text/typescript",
   "name": "typescript",
   "version": "3.7.2"
  }
 },
 "nbformat": 4,
 "nbformat_minor": 5
}
