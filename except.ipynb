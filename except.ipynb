{
 "cells": [
  {
   "cell_type": "markdown",
   "id": "3551c9e2-a984-4299-a6d6-89d93df9f62e",
   "metadata": {},
   "source": [
    "## Catch"
   ]
  },
  {
   "cell_type": "code",
   "execution_count": 6,
   "id": "ec46aca9-34cd-47a8-99b2-7269b03ef034",
   "metadata": {},
   "outputs": [
    {
     "name": "stdout",
     "output_type": "stream",
     "text": [
      "Whoops!\n"
     ]
    }
   ],
   "source": [
    "try {\n",
    "  throw new Error('Whoops!');  \n",
    "} catch (e) {\n",
    "  console.log(e.message);\n",
    "}"
   ]
  },
  {
   "cell_type": "code",
   "execution_count": 8,
   "id": "db07f41d-4cf0-40f5-93cd-d6d660ee88e3",
   "metadata": {},
   "outputs": [
    {
     "name": "stdout",
     "output_type": "stream",
     "text": [
      "Whoops!\n",
      "Oh no!\n"
     ]
    }
   ],
   "source": [
    "try {\n",
    "  throw new Error('Whoops!');  \n",
    "} catch (e) {\n",
    "  console.log(e.message);\n",
    "} finally {\n",
    "  console.log('Oh no!');\n",
    "}"
   ]
  }
 ],
 "metadata": {
  "kernelspec": {
   "display_name": "TypeScript",
   "language": "typescript",
   "name": "tslab"
  },
  "language_info": {
   "codemirror_mode": {
    "mode": "typescript",
    "name": "javascript",
    "typescript": true
   },
   "file_extension": ".ts",
   "mimetype": "text/typescript",
   "name": "typescript",
   "version": "3.7.2"
  }
 },
 "nbformat": 4,
 "nbformat_minor": 5
}
