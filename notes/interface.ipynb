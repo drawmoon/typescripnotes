{
 "cells": [
  {
   "cell_type": "code",
   "execution_count": 1,
   "id": "2ced864d-2867-4c7e-941f-0ebbcaa055c6",
   "metadata": {},
   "outputs": [],
   "source": [
    "interface User {\n",
    "  id: number;\n",
    "  name: string;\n",
    "  phone: string;\n",
    "}"
   ]
  },
  {
   "cell_type": "code",
   "execution_count": 2,
   "id": "87dc7de6-343b-4af3-8798-c5ae43adf044",
   "metadata": {},
   "outputs": [
    {
     "name": "stdout",
     "output_type": "stream",
     "text": [
      "{ id: \u001b[33m1\u001b[39m, name: \u001b[32m'张乔巧'\u001b[39m, phone: \u001b[32m'15611111111'\u001b[39m }\n"
     ]
    }
   ],
   "source": [
    "const user: User = {\n",
    "  id: 1,\n",
    "  name: '张乔巧',\n",
    "  phone: '15611111111',\n",
    "};\n",
    "\n",
    "user;"
   ]
  },
  {
   "cell_type": "code",
   "execution_count": 3,
   "id": "ce0adfb3-b244-4c88-994b-da52a5401036",
   "metadata": {},
   "outputs": [],
   "source": [
    "interface IUserService {\n",
    "  getById(id: number);\n",
    "  delete(id: number);\n",
    "}"
   ]
  },
  {
   "cell_type": "code",
   "execution_count": 4,
   "id": "f43c1940-f93b-4943-9f5d-8842552d1936",
   "metadata": {},
   "outputs": [],
   "source": [
    "class UserService implements IUserService {\n",
    "  public getById(id: number) {\n",
    "      \n",
    "  }\n",
    "    \n",
    "  public delete(id: number) {\n",
    "      \n",
    "  }\n",
    "}"
   ]
  },
  {
   "cell_type": "code",
   "execution_count": 8,
   "id": "34421a42-9f47-4bd1-b361-6bb8f13756d2",
   "metadata": {},
   "outputs": [
    {
     "name": "stdout",
     "output_type": "stream",
     "text": [
      "UserService {}\n"
     ]
    }
   ],
   "source": [
    "const userService: IUserService = new UserService();\n",
    "\n",
    "userService;"
   ]
  },
  {
   "cell_type": "markdown",
   "id": "07d42203-bc4a-48a9-b7f4-97e9e1689677",
   "metadata": {},
   "source": [
    "给 `class` 扩展字段或函数："
   ]
  },
  {
   "cell_type": "code",
   "execution_count": 11,
   "id": "c9c20564-19c4-47da-9e46-21e1d1a53579",
   "metadata": {},
   "outputs": [
    {
     "name": "stdout",
     "output_type": "stream",
     "text": [
      "李泽星\n"
     ]
    }
   ],
   "source": [
    "class User {\n",
    "  id: number;\n",
    "  firstName: string;\n",
    "  lastName: string;\n",
    "}\n",
    "\n",
    "interface User {\n",
    "  phone: string;\n",
    "  getFullName(): string;\n",
    "}\n",
    "\n",
    "User.prototype.getFullName = function() {\n",
    "  return this.firstName + this.lastName;  \n",
    "};\n",
    "\n",
    "const user = new User();\n",
    "\n",
    "user.id = 1;\n",
    "user.firstName = '李';\n",
    "user.lastName = '泽星'\n",
    "user.phone = '15611111111';\n",
    "\n",
    "user.getFullName();"
   ]
  }
 ],
 "metadata": {
  "kernelspec": {
   "display_name": "TypeScript",
   "language": "typescript",
   "name": "tslab"
  },
  "language_info": {
   "codemirror_mode": {
    "mode": "typescript",
    "name": "javascript",
    "typescript": true
   },
   "file_extension": ".ts",
   "mimetype": "text/typescript",
   "name": "typescript",
   "version": "3.7.2"
  }
 },
 "nbformat": 4,
 "nbformat_minor": 5
}
