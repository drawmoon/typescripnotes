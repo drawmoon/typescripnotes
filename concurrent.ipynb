{
 "cells": [
  {
   "cell_type": "markdown",
   "id": "1797c837-251e-46ca-9dfb-0b70dcf5feb3",
   "metadata": {
    "tags": []
   },
   "source": [
    "## 解决并发请求使代码重复执行"
   ]
  },
  {
   "cell_type": "markdown",
   "id": "76e33589-c124-4132-92a6-38f33af78c1f",
   "metadata": {},
   "source": [
    "业务逻辑:\n",
    "\n",
    "- 调用接口获取 `foo`, `bar` 数据\n",
    "- 检查是否存在可用更新，如果存在则更新本地文件\n",
    "- 读取本地 `manifest.json` 文件返回数据\n",
    "\n",
    "存在问题:\n",
    "\n",
    "- 存在重复执行更新本地文件\n",
    "- 会导致读取了正在写入的文件时程序报错"
   ]
  },
  {
   "cell_type": "code",
   "execution_count": 1,
   "id": "91eafb31-ec92-4d49-a0ac-00df84310476",
   "metadata": {},
   "outputs": [],
   "source": [
    "// 创建一个任务，在指定的毫秒数后完成\n",
    "const delay = (ms = 1) => new Promise<void>((r) => setTimeout(r, ms));"
   ]
  },
  {
   "cell_type": "code",
   "execution_count": 2,
   "id": "02e64fea-53b7-44ab-8e97-f10af9d5469b",
   "metadata": {},
   "outputs": [],
   "source": [
    "const tasks = new Map<string, Promise<void>>();\n",
    "\n",
    "async function visit(id: string): Promise<void> {\n",
    "  let promise: Promise<void>;\n",
    "  if (!tasks.has(id)) {\n",
    "    promise = new Promise(async (r) => {\n",
    "      console.log('check for new version...');\n",
    "      console.log('new update available, writing file...');\n",
    "      await delay(3000);\n",
    "      console.log('update success!');\n",
    "      r();\n",
    "    });\n",
    "    \n",
    "    tasks.set(id, promise);\n",
    "  } else {\n",
    "    promise = tasks.get(id);\n",
    "  }\n",
    "    \n",
    "  try {\n",
    "    await promise;\n",
    "  } finally {\n",
    "    tasks.delete(id);\n",
    "  }\n",
    "}"
   ]
  },
  {
   "cell_type": "code",
   "execution_count": 3,
   "id": "533494d3-9246-4266-a107-594905d92bff",
   "metadata": {},
   "outputs": [],
   "source": [
    "// api/foo\n",
    "async function getFoo(id: string): Promise<void> {\n",
    "  await visit(id);\n",
    "  console.log('read foo in manifest.json');\n",
    "    \n",
    "  // return foo\n",
    "}\n",
    "\n",
    "// api/bar\n",
    "async function getBar(id: string): Promise<void> {\n",
    "  await visit(id);\n",
    "  console.log('read bar in manifest.json');\n",
    "    \n",
    "  // return bar\n",
    "}"
   ]
  },
  {
   "cell_type": "code",
   "execution_count": 4,
   "id": "a56bcb41-1def-416c-824c-15b2de762e47",
   "metadata": {},
   "outputs": [
    {
     "name": "stdout",
     "output_type": "stream",
     "text": [
      "check for new version...\n",
      "new update available, writing file...\n",
      "Promise { \u001b[36m<pending>\u001b[39m }\n",
      "update success!\n",
      "read foo in manifest.json\n",
      "read bar in manifest.json\n"
     ]
    }
   ],
   "source": [
    "// 并发请求\n",
    "getFoo('1').then();\n",
    "getBar('1').then();"
   ]
  },
  {
   "cell_type": "markdown",
   "id": "b3faf676-989c-43e3-87d9-f1dfa13ecc56",
   "metadata": {},
   "source": [
    "从上面的输出可以看出来， `visit` 函数中的代码只被执行了一次"
   ]
  }
 ],
 "metadata": {
  "kernelspec": {
   "display_name": "TypeScript",
   "language": "typescript",
   "name": "tslab"
  },
  "language_info": {
   "codemirror_mode": {
    "mode": "typescript",
    "name": "javascript",
    "typescript": true
   },
   "file_extension": ".ts",
   "mimetype": "text/typescript",
   "name": "typescript",
   "version": "3.7.2"
  }
 },
 "nbformat": 4,
 "nbformat_minor": 5
}
