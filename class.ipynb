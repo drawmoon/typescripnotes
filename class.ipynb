{
 "cells": [
  {
   "cell_type": "code",
   "execution_count": 1,
   "id": "87f319b7-e955-4256-a7d8-2015f9584269",
   "metadata": {},
   "outputs": [],
   "source": [
    "class Fruit {\n",
    "  constructor(private price: number) {}\n",
    "    \n",
    "  public getPrice(): number {\n",
    "    return this.price;  \n",
    "  }\n",
    "    \n",
    "  protected date: Date;\n",
    "}"
   ]
  },
  {
   "cell_type": "markdown",
   "id": "6935d495-7054-4167-b01b-152a6bc42e69",
   "metadata": {},
   "source": [
    "构造实例："
   ]
  },
  {
   "cell_type": "code",
   "execution_count": 2,
   "id": "b09dbd07-ae90-489b-8c37-1a72e7041c92",
   "metadata": {},
   "outputs": [
    {
     "name": "stdout",
     "output_type": "stream",
     "text": [
      "Fruit { price: \u001b[33m0.55\u001b[39m }\n"
     ]
    }
   ],
   "source": [
    "new Fruit(0.55);"
   ]
  },
  {
   "cell_type": "markdown",
   "id": "6344faa3-de9b-480c-987b-19cb2dc38768",
   "metadata": {},
   "source": [
    "继承："
   ]
  },
  {
   "cell_type": "code",
   "execution_count": 3,
   "id": "67cc717a-beb9-4fd9-af32-cf8642758fe5",
   "metadata": {},
   "outputs": [],
   "source": [
    "class Apple extends Fruit {\n",
    "  public producer: string;  \n",
    "}"
   ]
  },
  {
   "cell_type": "markdown",
   "id": "6c582a8b-8187-4110-9872-eacd96b665c6",
   "metadata": {},
   "source": [
    "重写："
   ]
  },
  {
   "cell_type": "code",
   "execution_count": 4,
   "id": "0cdf6ab5-ccac-4db6-bb19-c0c61ab49c1c",
   "metadata": {},
   "outputs": [
    {
     "name": "stdout",
     "output_type": "stream",
     "text": [
      "Apple { price: \u001b[33m1.68\u001b[39m, producer: \u001b[32m'新疆'\u001b[39m }\n"
     ]
    }
   ],
   "source": [
    "class Apple extends Fruit {\n",
    "  // 重写构造函数\n",
    "  constructor(price: number, public producer: string) {\n",
    "    super(price);\n",
    "  }\n",
    "    \n",
    "  // 重写父类的函数\n",
    "  getPrice(): number {\n",
    "    return super.getPrice();  \n",
    "  }\n",
    "}\n",
    "\n",
    "new Apple(1.68, '新疆');"
   ]
  },
  {
   "cell_type": "markdown",
   "id": "447e51b9-9505-48a1-b4be-c34d3ce38e92",
   "metadata": {},
   "source": [
    "重载："
   ]
  },
  {
   "cell_type": "code",
   "execution_count": 5,
   "id": "634280e8-6e74-4b12-ad24-c82e65108ccd",
   "metadata": {},
   "outputs": [
    {
     "name": "stdout",
     "output_type": "stream",
     "text": [
      "{ id: \u001b[33m1\u001b[39m, name: \u001b[32m'张三'\u001b[39m, phone: \u001b[32m'15611111111'\u001b[39m }\n",
      "{ id: \u001b[33m2\u001b[39m, name: \u001b[32m'李四'\u001b[39m, phone: \u001b[32m'15622222222'\u001b[39m }\n"
     ]
    }
   ],
   "source": [
    "interface User { id: number; name: string; phone: string; }\n",
    "\n",
    "const users: User[] = [\n",
    "  { id: 1, name: '张三', phone: '15611111111' },\n",
    "  { id: 2, name: '李四', phone: '15622222222' }\n",
    "];\n",
    "\n",
    "class UserManager {\n",
    "  public getName(id: number): User;\n",
    "  public getName(phone: string): User;\n",
    "  public getName(a: number | string): User {\n",
    "    if (typeof a === 'number') {\n",
    "      return users.find((x) => x.id === a);\n",
    "    }\n",
    "    \n",
    "    return users.find((x) => x.phone === a);\n",
    "  }\n",
    "}\n",
    "\n",
    "const manager = new UserManager();\n",
    "console.log(manager.getName(1));\n",
    "console.log(manager.getName('15622222222'));"
   ]
  },
  {
   "cell_type": "markdown",
   "id": "71636926-84c6-44c8-adef-588527638841",
   "metadata": {},
   "source": [
    "抽象类："
   ]
  },
  {
   "cell_type": "code",
   "execution_count": 6,
   "id": "756da7d9-a46b-489d-a0a8-592be3f17707",
   "metadata": {},
   "outputs": [],
   "source": [
    "abstract class People {\n",
    "  public abstract name: string;\n",
    "    \n",
    "  public abstract jog(): void;\n",
    "}"
   ]
  },
  {
   "cell_type": "code",
   "execution_count": 7,
   "id": "1a6d28ca-aacb-4bed-a317-f440d8a26c56",
   "metadata": {},
   "outputs": [
    {
     "name": "stdout",
     "output_type": "stream",
     "text": [
      "李维维\n"
     ]
    }
   ],
   "source": [
    "class Child extends People {\n",
    "  constructor(private childName: string) {\n",
    "    super();\n",
    "  }\n",
    "    \n",
    "  get name(): string {\n",
    "    return this.childName;\n",
    "  }\n",
    "    \n",
    "  jog(): void {\n",
    "      \n",
    "  }\n",
    "}\n",
    "\n",
    "const child = new Child('李维维');\n",
    "child.name;"
   ]
  },
  {
   "cell_type": "markdown",
   "id": "9a11adac-7e25-4dcb-86b8-b1c1411fc61c",
   "metadata": {},
   "source": [
    "静态成员："
   ]
  },
  {
   "cell_type": "code",
   "execution_count": 10,
   "id": "517243e3-0780-4243-aab2-09f3527e9efb",
   "metadata": {},
   "outputs": [],
   "source": [
    "class Validator {\n",
    "  public static drive: string;\n",
    "    \n",
    "  public static validateName(name: string): void {\n",
    "    console.log('successful!');\n",
    "  }\n",
    "}"
   ]
  },
  {
   "cell_type": "code",
   "execution_count": 11,
   "id": "68a81297-3f0d-49b3-bbd9-0cda832f28e6",
   "metadata": {},
   "outputs": [
    {
     "name": "stdout",
     "output_type": "stream",
     "text": [
      "successful!\n"
     ]
    }
   ],
   "source": [
    "Validator.validateName('explame');"
   ]
  }
 ],
 "metadata": {
  "kernelspec": {
   "display_name": "TypeScript",
   "language": "typescript",
   "name": "tslab"
  },
  "language_info": {
   "codemirror_mode": {
    "mode": "typescript",
    "name": "javascript",
    "typescript": true
   },
   "file_extension": ".ts",
   "mimetype": "text/typescript",
   "name": "typescript",
   "version": "3.7.2"
  }
 },
 "nbformat": 4,
 "nbformat_minor": 5
}
