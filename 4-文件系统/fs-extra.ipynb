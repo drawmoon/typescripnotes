{
 "cells": [
  {
   "cell_type": "markdown",
   "id": "5a1a543e-27da-4bfb-b040-9c25551e5ed6",
   "metadata": {},
   "source": [
    "## fs-extra"
   ]
  },
  {
   "cell_type": "markdown",
   "id": "dea6fa53-b6a7-43b7-91d5-b871d79bbd4c",
   "metadata": {},
   "source": [
    "Install:\n",
    "\n",
    "```\n",
    "npm install fs-extra\n",
    "npm install -D @types/fs-extra\n",
    "```"
   ]
  },
  {
   "cell_type": "markdown",
   "id": "6b2f78f8-a395-40f4-903c-a8268d918d48",
   "metadata": {},
   "source": [
    "import package:"
   ]
  },
  {
   "cell_type": "code",
   "execution_count": 1,
   "id": "bc308435-edda-49ac-ba8f-3b7f477cc301",
   "metadata": {},
   "outputs": [],
   "source": [
    "import * as fse from 'fs-extra';"
   ]
  },
  {
   "cell_type": "markdown",
   "id": "1bbd40f4-4cbe-4017-becf-23c5aa3b7a94",
   "metadata": {},
   "source": [
    "### Examples"
   ]
  },
  {
   "cell_type": "code",
   "execution_count": 2,
   "id": "7d0a42c6-76df-4155-9df5-912cbf2fcc0d",
   "metadata": {},
   "outputs": [],
   "source": [
    "import { join } from 'path';\n",
    "\n",
    "const basedir = join(process.cwd(), 'files');"
   ]
  },
  {
   "cell_type": "markdown",
   "id": "94fd62e5-da0f-45aa-9c4e-38844fb16ab3",
   "metadata": {},
   "source": [
    "### Copy dir or files"
   ]
  },
  {
   "cell_type": "markdown",
   "id": "d0c3a9a1-72ba-4f08-8245-4320e8c31775",
   "metadata": {},
   "source": [
    "copy with ignore path:"
   ]
  },
  {
   "cell_type": "code",
   "execution_count": 5,
   "id": "b5803564-505e-4ec2-95de-24bb86b7b304",
   "metadata": {},
   "outputs": [],
   "source": [
    "const src = join(basedir, 'copy'); // source path\n",
    "const dest = join(basedir, 'copy2'); // target path\n",
    "\n",
    "const copyFilter = (src: string, dest: string): boolean => {\n",
    "  return !src.endsWith('hash.txt'); // ignore hash.txt file\n",
    "};\n",
    "\n",
    "fse.copySync(src, dest, { overwrite: true, filter: copyFilter });"
   ]
  }
 ],
 "metadata": {
  "kernelspec": {
   "display_name": "TypeScript",
   "language": "typescript",
   "name": "tslab"
  },
  "language_info": {
   "codemirror_mode": {
    "mode": "typescript",
    "name": "javascript",
    "typescript": true
   },
   "file_extension": ".ts",
   "mimetype": "text/typescript",
   "name": "typescript",
   "version": "3.7.2"
  }
 },
 "nbformat": 4,
 "nbformat_minor": 5
}
