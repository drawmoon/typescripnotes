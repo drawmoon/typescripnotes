{
 "cells": [
  {
   "cell_type": "code",
   "execution_count": 2,
   "id": "e6f660d2-aa4c-4543-98d7-47b8b981e46d",
   "metadata": {},
   "outputs": [],
   "source": [
    "import { dirname } from 'path';"
   ]
  },
  {
   "cell_type": "code",
   "execution_count": 6,
   "id": "e149dcd9-d5c5-4b78-a483-6c60c10cada5",
   "metadata": {},
   "outputs": [
    {
     "name": "stdout",
     "output_type": "stream",
     "text": [
      "/home/document\n"
     ]
    }
   ],
   "source": [
    "dirname('/home/document/new.txt');"
   ]
  }
 ],
 "metadata": {
  "kernelspec": {
   "display_name": "TypeScript",
   "language": "typescript",
   "name": "tslab"
  },
  "language_info": {
   "codemirror_mode": {
    "mode": "typescript",
    "name": "javascript",
    "typescript": true
   },
   "file_extension": ".ts",
   "mimetype": "text/typescript",
   "name": "typescript",
   "version": "3.7.2"
  }
 },
 "nbformat": 4,
 "nbformat_minor": 5
}
