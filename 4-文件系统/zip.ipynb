{
 "cells": [
  {
   "cell_type": "markdown",
   "id": "97ca1ad4-8052-49f5-b157-3bd1803043cb",
   "metadata": {},
   "source": [
    "## Zip"
   ]
  },
  {
   "cell_type": "markdown",
   "id": "25e97a68-3052-4e1c-8a05-7034f3b4f35a",
   "metadata": {},
   "source": [
    "Install:\n",
    "\n",
    "```bash\n",
    "npm install adm-zip\n",
    "npm install -D @types/adm-zip\n",
    "```"
   ]
  },
  {
   "cell_type": "markdown",
   "id": "dd2b16db-37b6-4394-a6a8-eb2ed27b4730",
   "metadata": {},
   "source": [
    "import package:"
   ]
  },
  {
   "cell_type": "code",
   "execution_count": 14,
   "id": "72553725-2a70-4a12-9a77-96153ab4ccaf",
   "metadata": {},
   "outputs": [],
   "source": [
    "import AdmZip from 'adm-zip';"
   ]
  },
  {
   "cell_type": "markdown",
   "id": "52fed181-2306-4830-a179-e2686ead1b14",
   "metadata": {},
   "source": [
    "### Examples"
   ]
  },
  {
   "cell_type": "code",
   "execution_count": 15,
   "id": "b584a5fa-90a9-42ea-8ea4-af50c3d554e5",
   "metadata": {},
   "outputs": [],
   "source": [
    "import { join } from 'path';\n",
    "import { readdirSync } from 'fs';\n",
    "\n",
    "const base = join(process.cwd(), 'files');"
   ]
  },
  {
   "cell_type": "markdown",
   "id": "54259caa-856e-4abe-9f06-876dcb03fbbf",
   "metadata": {},
   "source": [
    "compress:"
   ]
  },
  {
   "cell_type": "code",
   "execution_count": 16,
   "id": "922e1644-5d2f-49c6-a479-f0925f4b8ebf",
   "metadata": {},
   "outputs": [],
   "source": [
    "const zip = new AdmZip();\n",
    "\n",
    "zip.addLocalFolder(join(base, 'dir'));\n",
    "\n",
    "zip.writeZip(join(base, 'dir.zip'));"
   ]
  },
  {
   "cell_type": "code",
   "execution_count": 17,
   "id": "9261cd7d-f220-47c3-8419-9b881757c86c",
   "metadata": {},
   "outputs": [
    {
     "name": "stdout",
     "output_type": "stream",
     "text": [
      "[ \u001b[32m'dir'\u001b[39m, \u001b[32m'dir.zip'\u001b[39m ]\n"
     ]
    }
   ],
   "source": [
    "readdirSync(base);"
   ]
  },
  {
   "cell_type": "markdown",
   "id": "7279fdd0-d71c-4d04-ad54-79933827a3ee",
   "metadata": {},
   "source": [
    "extract:"
   ]
  },
  {
   "cell_type": "code",
   "execution_count": 18,
   "id": "fda636e8-d685-4212-8746-2f735300ad08",
   "metadata": {},
   "outputs": [],
   "source": [
    "const zip = new AdmZip(join(base, 'dir.zip'));\n",
    "\n",
    "const targetDir = join(base, 'dir2');\n",
    "zip.extractAllTo(targetDir);"
   ]
  },
  {
   "cell_type": "code",
   "execution_count": 19,
   "id": "f4fbbfd5-52f2-4c36-bb94-fc972b9997cd",
   "metadata": {},
   "outputs": [
    {
     "name": "stdout",
     "output_type": "stream",
     "text": [
      "[ \u001b[32m'dir'\u001b[39m, \u001b[32m'dir.zip'\u001b[39m, \u001b[32m'dir2'\u001b[39m ]\n"
     ]
    }
   ],
   "source": [
    "readdirSync(base);"
   ]
  }
 ],
 "metadata": {
  "kernelspec": {
   "display_name": "TypeScript",
   "language": "typescript",
   "name": "tslab"
  },
  "language_info": {
   "codemirror_mode": {
    "mode": "typescript",
    "name": "javascript",
    "typescript": true
   },
   "file_extension": ".ts",
   "mimetype": "text/typescript",
   "name": "typescript",
   "version": "3.7.2"
  }
 },
 "nbformat": 4,
 "nbformat_minor": 5
}
