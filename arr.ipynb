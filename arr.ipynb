{
 "cells": [
  {
   "cell_type": "markdown",
   "id": "a95cc370-5c7d-4dfe-9339-bd77fd252290",
   "metadata": {},
   "source": [
    "## 数组的声明\n",
    "\n",
    "在声明变量时通过 `: string[]` 指定变量的类型。"
   ]
  },
  {
   "cell_type": "code",
   "execution_count": 1,
   "id": "ac9d2e4b-4ba2-479a-adea-2b6c4ea91017",
   "metadata": {},
   "outputs": [
    {
     "name": "stdout",
     "output_type": "stream",
     "text": [
      "[ \u001b[32m'Hello'\u001b[39m, \u001b[32m'World'\u001b[39m ]\n",
      "[ \u001b[33m1\u001b[39m, \u001b[33m100\u001b[39m, \u001b[33m0\u001b[39m, \u001b[33m-1\u001b[39m ]\n",
      "[ \u001b[32m'Hello'\u001b[39m, \u001b[33m123\u001b[39m ]\n"
     ]
    }
   ],
   "source": [
    "// 声明一个字符串数组变量\n",
    "const arr1: string[] = ['Hello', 'World'];\n",
    "console.log(arr1);\n",
    "\n",
    "// 声明一个数字数组变量\n",
    "const arr2: number[] = [1, 100, 0, -1];\n",
    "console.log(arr2);\n",
    "\n",
    "// 声明一个联合类型数组变量\n",
    "const arr3: (string | number)[] = ['Hello', 123];\n",
    "console.log(arr3);"
   ]
  },
  {
   "cell_type": "markdown",
   "id": "cf7e1155-a94c-4c3c-b3cc-18b26ae72b5e",
   "metadata": {},
   "source": [
    "当数组中元素的类型与数组的类型不一致时，编译器则会输出错误：\n",
    "\n",
    "```typescript\n",
    "const arr: string[] = [1]; // 不能将类型“number”分配给类型“string”。\n",
    "```"
   ]
  },
  {
   "cell_type": "markdown",
   "id": "f23a5004-62ef-4020-8646-aa45fd34bd5a",
   "metadata": {},
   "source": [
    "## 获取数组元素"
   ]
  },
  {
   "cell_type": "code",
   "execution_count": 2,
   "id": "aab8ef12-18ac-4717-991b-a0d4f975a6c8",
   "metadata": {},
   "outputs": [
    {
     "name": "stdout",
     "output_type": "stream",
     "text": [
      "Apple\n"
     ]
    }
   ],
   "source": [
    "const fruits: string[] = ['Apple', 'Orange'];\n",
    "\n",
    "const apple = fruits[0];\n",
    "\n",
    "console.log(apple);"
   ]
  },
  {
   "cell_type": "markdown",
   "id": "6b385110-848b-49a8-8d03-a36f93e1f43b",
   "metadata": {},
   "source": [
    "提取指定开始索引到结束索引之间的元素："
   ]
  },
  {
   "cell_type": "code",
   "execution_count": 3,
   "id": "760f502e-dc3c-4f8a-a547-2f0543c003b6",
   "metadata": {},
   "outputs": [
    {
     "name": "stdout",
     "output_type": "stream",
     "text": [
      "[ \u001b[32m'George'\u001b[39m, \u001b[32m'John'\u001b[39m, \u001b[32m'Thomas'\u001b[39m ]\n"
     ]
    }
   ],
   "source": [
    "const listOfNames: string[] = ['George', 'John', 'Thomas', 'James', 'Adrew', 'Martin'];\n",
    "\n",
    "const sliced = listOfNames.slice(0, 3);\n",
    "\n",
    "console.log(sliced);"
   ]
  },
  {
   "cell_type": "code",
   "execution_count": 4,
   "id": "1e29c6fc-311c-415a-8fe3-bb531441ab3f",
   "metadata": {},
   "outputs": [
    {
     "name": "stdout",
     "output_type": "stream",
     "text": [
      "[ \u001b[32m'George'\u001b[39m, \u001b[32m'John'\u001b[39m, \u001b[32m'Thomas'\u001b[39m, \u001b[32m'James'\u001b[39m ]\n"
     ]
    }
   ],
   "source": [
    "const sliced = listOfNames.slice(0, -2);\n",
    "\n",
    "console.log(sliced);"
   ]
  },
  {
   "cell_type": "markdown",
   "id": "c2722118-0721-4b26-a80f-2a124d87af9c",
   "metadata": {},
   "source": [
    "超出范围则返回 `undefined`："
   ]
  },
  {
   "cell_type": "code",
   "execution_count": 5,
   "id": "89a45a16-415a-4b06-b6a8-97f246aa3123",
   "metadata": {},
   "outputs": [
    {
     "name": "stdout",
     "output_type": "stream",
     "text": [
      "\u001b[90mundefined\u001b[39m\n",
      "\u001b[90mundefined\u001b[39m\n"
     ]
    }
   ],
   "source": [
    "const a = fruits[-1];\n",
    "const b = fruits[100];\n",
    "\n",
    "console.log(a);\n",
    "console.log(b);"
   ]
  },
  {
   "cell_type": "markdown",
   "id": "594e432f-47d0-4b35-a511-522178107663",
   "metadata": {},
   "source": [
    "## 将数组转换为字符串"
   ]
  },
  {
   "cell_type": "code",
   "execution_count": 6,
   "id": "ef198aee-2e92-4114-9c01-5a5c40900ce2",
   "metadata": {},
   "outputs": [
    {
     "name": "stdout",
     "output_type": "stream",
     "text": [
      "Apple, Orange\n"
     ]
    }
   ],
   "source": [
    "const fruits: string[] = ['Apple', 'Orange'];\n",
    "\n",
    "const str = fruits.join(', ');\n",
    "\n",
    "console.log(str);"
   ]
  },
  {
   "cell_type": "markdown",
   "id": "f081918d-50f0-4e2a-9c1e-7f117bf2763e",
   "metadata": {},
   "source": [
    "## 移除数组元素"
   ]
  },
  {
   "cell_type": "code",
   "execution_count": 7,
   "id": "7fc7af3d-ff47-461a-bc34-b91cb835837f",
   "metadata": {},
   "outputs": [
    {
     "name": "stdout",
     "output_type": "stream",
     "text": [
      "[ \u001b[32m'Apple'\u001b[39m, \u001b[90m<1 empty item>\u001b[39m, \u001b[32m'Pear'\u001b[39m, \u001b[32m'Mango'\u001b[39m ]\n"
     ]
    }
   ],
   "source": [
    "const fruits: string[] = ['Apple', 'Orange', 'Pear', 'Mango'];\n",
    "\n",
    "delete fruits[1];\n",
    "\n",
    "console.log(fruits);"
   ]
  },
  {
   "cell_type": "markdown",
   "id": "5f806ba5-5554-417a-8944-5ea0809ec8fb",
   "metadata": {},
   "source": [
    "移除并返回数组的第一个元素："
   ]
  },
  {
   "cell_type": "code",
   "execution_count": 8,
   "id": "b70cb1db-ec40-42d0-8825-2cd215162da8",
   "metadata": {},
   "outputs": [
    {
     "name": "stdout",
     "output_type": "stream",
     "text": [
      "Apple\n",
      "[ \u001b[90m<1 empty item>\u001b[39m, \u001b[32m'Pear'\u001b[39m, \u001b[32m'Mango'\u001b[39m ]\n"
     ]
    }
   ],
   "source": [
    "const first = fruits.shift();\n",
    "\n",
    "console.log(first);\n",
    "console.log(fruits);"
   ]
  },
  {
   "cell_type": "markdown",
   "id": "0aaefa99-a60c-430c-8d47-edbcb483889d",
   "metadata": {},
   "source": [
    "删除并返回数组的最后一个元素："
   ]
  },
  {
   "cell_type": "code",
   "execution_count": 9,
   "id": "ff64481c-d4ef-4487-901a-60ce1aaea7bc",
   "metadata": {},
   "outputs": [
    {
     "name": "stdout",
     "output_type": "stream",
     "text": [
      "Mango\n",
      "[ \u001b[90m<1 empty item>\u001b[39m, \u001b[32m'Pear'\u001b[39m ]\n"
     ]
    }
   ],
   "source": [
    "const last = fruits.pop();\n",
    "\n",
    "console.log(last);\n",
    "console.log(fruits);"
   ]
  },
  {
   "cell_type": "markdown",
   "id": "13001523-697a-48ea-86dc-2ffe1168dc12",
   "metadata": {},
   "source": [
    "## 去除重复的数组元素"
   ]
  },
  {
   "cell_type": "code",
   "execution_count": 10,
   "id": "4662aeb4-6cd6-4253-a604-dedd267ed2d5",
   "metadata": {},
   "outputs": [
    {
     "name": "stdout",
     "output_type": "stream",
     "text": [
      "[ \u001b[33m1\u001b[39m, \u001b[32m'A'\u001b[39m ]\n"
     ]
    }
   ],
   "source": [
    "const same: (number | string)[] = [1, 1, 'A', 'A'];\n",
    "\n",
    "const arr = Array.from(new Set(same));\n",
    "\n",
    "console.log(arr);"
   ]
  },
  {
   "cell_type": "markdown",
   "id": "f58f76bf-465f-45ec-9a3e-575e23a855df",
   "metadata": {},
   "source": [
    "## 数据元素排序"
   ]
  },
  {
   "cell_type": "code",
   "execution_count": 11,
   "id": "ea103520-732e-4358-ac12-761744e4db51",
   "metadata": {},
   "outputs": [],
   "source": [
    "let sorted: number[] = [1, 7, 8, 12, 55];"
   ]
  },
  {
   "cell_type": "markdown",
   "id": "7dcb64a9-b267-4cb1-b5e6-2b4de94caba3",
   "metadata": {},
   "source": [
    "配合 `Math.random()` 打乱数组中的元素："
   ]
  },
  {
   "cell_type": "code",
   "execution_count": 12,
   "id": "383897b8-ab6a-4b0d-9beb-e4f099448d0d",
   "metadata": {},
   "outputs": [
    {
     "name": "stdout",
     "output_type": "stream",
     "text": [
      "[ \u001b[33m7\u001b[39m, \u001b[33m12\u001b[39m, \u001b[33m1\u001b[39m, \u001b[33m8\u001b[39m, \u001b[33m55\u001b[39m ]\n"
     ]
    }
   ],
   "source": [
    "sorted = sorted.sort(() => Math.random() - 0.5);\n",
    "\n",
    "console.log(sorted);"
   ]
  },
  {
   "cell_type": "markdown",
   "id": "f273acc5-5a38-4d0a-91dd-5bde1f29f1de",
   "metadata": {},
   "source": [
    "升序："
   ]
  },
  {
   "cell_type": "code",
   "execution_count": 13,
   "id": "41444c9e-8cfa-4e5c-b551-200304ecb4c3",
   "metadata": {},
   "outputs": [
    {
     "name": "stdout",
     "output_type": "stream",
     "text": [
      "[ \u001b[33m1\u001b[39m, \u001b[33m7\u001b[39m, \u001b[33m8\u001b[39m, \u001b[33m12\u001b[39m, \u001b[33m55\u001b[39m ]\n"
     ]
    }
   ],
   "source": [
    "sorted = sorted.sort((a, b) => a > b ? 1 : -1);\n",
    "\n",
    "console.log(sorted);"
   ]
  },
  {
   "cell_type": "markdown",
   "id": "7468bdc6-7ce0-4977-820b-eeda98e7cea6",
   "metadata": {},
   "source": [
    "降序："
   ]
  },
  {
   "cell_type": "code",
   "execution_count": 14,
   "id": "82dc20f5-da7c-474f-ad08-cd348493e587",
   "metadata": {},
   "outputs": [
    {
     "name": "stdout",
     "output_type": "stream",
     "text": [
      "[ \u001b[33m55\u001b[39m, \u001b[33m12\u001b[39m, \u001b[33m8\u001b[39m, \u001b[33m7\u001b[39m, \u001b[33m1\u001b[39m ]\n"
     ]
    }
   ],
   "source": [
    "sorted = sorted.sort((a, b) => a < b ? 1 : -1);\n",
    "\n",
    "console.log(sorted);"
   ]
  },
  {
   "cell_type": "markdown",
   "id": "20ce2b97-6bd7-4da6-b99b-de902f49d873",
   "metadata": {},
   "source": [
    "反转数组："
   ]
  },
  {
   "cell_type": "code",
   "execution_count": 15,
   "id": "c154a1e8-5fd7-40f6-9f9d-251e31a2e06d",
   "metadata": {},
   "outputs": [
    {
     "name": "stdout",
     "output_type": "stream",
     "text": [
      "[ \u001b[33m1\u001b[39m, \u001b[33m7\u001b[39m, \u001b[33m8\u001b[39m, \u001b[33m12\u001b[39m, \u001b[33m55\u001b[39m ]\n"
     ]
    }
   ],
   "source": [
    "const reversed = sorted.reverse();\n",
    "\n",
    "console.log(reversed);"
   ]
  },
  {
   "cell_type": "markdown",
   "id": "afb6af27-29cb-4a89-8bac-08456c823977",
   "metadata": {},
   "source": [
    "## 组合、并集、交集、差集"
   ]
  },
  {
   "cell_type": "code",
   "execution_count": 16,
   "id": "973ffe42-bc89-449e-bedc-9bc5fbfd38de",
   "metadata": {},
   "outputs": [],
   "source": [
    "const arr1: number[] = [1, 2, 3];\n",
    "const arr2: number[] = [2, 3, 4];"
   ]
  },
  {
   "cell_type": "markdown",
   "id": "205779d5-24ab-4806-ad78-4a2830895501",
   "metadata": {},
   "source": [
    "组合："
   ]
  },
  {
   "cell_type": "code",
   "execution_count": 17,
   "id": "c3a22f84-16e6-4a88-a479-e0ea898d674f",
   "metadata": {},
   "outputs": [
    {
     "name": "stdout",
     "output_type": "stream",
     "text": [
      "[ \u001b[33m1\u001b[39m, \u001b[33m2\u001b[39m, \u001b[33m3\u001b[39m, \u001b[33m2\u001b[39m, \u001b[33m3\u001b[39m, \u001b[33m4\u001b[39m ]\n"
     ]
    }
   ],
   "source": [
    "const merged = [...arr1, ...arr2];\n",
    "\n",
    "console.log(merged);"
   ]
  },
  {
   "cell_type": "markdown",
   "id": "20458900-d05f-4215-aedc-e4fc7f1e5c0b",
   "metadata": {},
   "source": [
    "并集："
   ]
  },
  {
   "cell_type": "code",
   "execution_count": 18,
   "id": "e3be4ae5-f9c4-4d88-a05b-0d7164a4e3a8",
   "metadata": {},
   "outputs": [
    {
     "name": "stdout",
     "output_type": "stream",
     "text": [
      "[ \u001b[33m1\u001b[39m, \u001b[33m2\u001b[39m, \u001b[33m3\u001b[39m, \u001b[33m4\u001b[39m ]\n"
     ]
    }
   ],
   "source": [
    "const arr = Array.from(new Set([...arr1, ...arr2]));\n",
    "\n",
    "console.log(arr);"
   ]
  },
  {
   "cell_type": "markdown",
   "id": "a20942c5-0cb4-4c09-bb54-44b51834099c",
   "metadata": {},
   "source": [
    "交集："
   ]
  },
  {
   "cell_type": "code",
   "execution_count": 19,
   "id": "014bc3af-cf02-4397-97cf-3ae763ff601f",
   "metadata": {},
   "outputs": [
    {
     "name": "stdout",
     "output_type": "stream",
     "text": [
      "[ \u001b[33m1\u001b[39m, \u001b[33m2\u001b[39m, \u001b[33m3\u001b[39m ]\n"
     ]
    }
   ],
   "source": [
    "const arr = arr1.filter((x) => arr1.includes(x));\n",
    "\n",
    "console.log(arr);"
   ]
  },
  {
   "cell_type": "markdown",
   "id": "2d66758d-70c7-4863-9b39-d9b6c00891c4",
   "metadata": {},
   "source": [
    "差集："
   ]
  },
  {
   "cell_type": "code",
   "execution_count": 20,
   "id": "62b76320-193e-43b4-962b-97ac777110ff",
   "metadata": {},
   "outputs": [
    {
     "name": "stdout",
     "output_type": "stream",
     "text": [
      "[ \u001b[33m1\u001b[39m ]\n"
     ]
    }
   ],
   "source": [
    "const arr = arr1.filter((x) => !arr2.includes(x));\n",
    "\n",
    "console.log(arr);"
   ]
  },
  {
   "cell_type": "markdown",
   "id": "6b5bedd1-82f5-4a18-8794-6c14ebca7873",
   "metadata": {},
   "source": [
    "## 求和"
   ]
  },
  {
   "cell_type": "code",
   "execution_count": 21,
   "id": "60ddfe08-1cc4-4fcc-9713-1c8ff128c4aa",
   "metadata": {},
   "outputs": [
    {
     "name": "stdout",
     "output_type": "stream",
     "text": [
      "\u001b[33m100\u001b[39m\n"
     ]
    }
   ],
   "source": [
    "const arr: number[] = [50, 20, 30];\n",
    "\n",
    "const sum = arr.reduce((a, b) => a + b);\n",
    "\n",
    "console.log(sum);"
   ]
  },
  {
   "cell_type": "markdown",
   "id": "c1d89197-24d1-4a8f-ad9f-9c899b43161b",
   "metadata": {},
   "source": [
    "## 所有元素满足条件"
   ]
  },
  {
   "cell_type": "code",
   "execution_count": 22,
   "id": "7d1a1c69-e253-418d-9cb0-37cac006c592",
   "metadata": {},
   "outputs": [
    {
     "name": "stdout",
     "output_type": "stream",
     "text": [
      "\u001b[33mfalse\u001b[39m\n"
     ]
    }
   ],
   "source": [
    "const arr: boolean[] = [true, false, true];\n",
    "\n",
    "console.log(arr.every((x) => x));"
   ]
  },
  {
   "cell_type": "markdown",
   "id": "562b7a43-03a9-41f1-97b5-73c005da1fdf",
   "metadata": {},
   "source": [
    "## 组合数组中的数组"
   ]
  },
  {
   "cell_type": "code",
   "execution_count": 23,
   "id": "ef0994d6-3091-40c0-94de-bb1dc4b0de7b",
   "metadata": {},
   "outputs": [
    {
     "name": "stdout",
     "output_type": "stream",
     "text": [
      "[ \u001b[32m'a'\u001b[39m, \u001b[32m'b'\u001b[39m, \u001b[32m'c'\u001b[39m, \u001b[32m'd'\u001b[39m ]\n"
     ]
    }
   ],
   "source": [
    "const arr: string[][] = [['a'], ['b', 'c'], ['d']];\n",
    "\n",
    "const merged = [].concat(...arr);\n",
    "\n",
    "console.log(merged);"
   ]
  }
 ],
 "metadata": {
  "kernelspec": {
   "display_name": "TypeScript",
   "language": "typescript",
   "name": "tslab"
  },
  "language_info": {
   "codemirror_mode": {
    "mode": "typescript",
    "name": "javascript",
    "typescript": true
   },
   "file_extension": ".ts",
   "mimetype": "text/typescript",
   "name": "typescript",
   "version": "3.7.2"
  }
 },
 "nbformat": 4,
 "nbformat_minor": 5
}
