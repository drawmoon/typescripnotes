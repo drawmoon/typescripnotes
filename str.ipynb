{
 "cells": [
  {
   "cell_type": "code",
   "execution_count": 1,
   "id": "f434ac43-c748-4831-bf96-3f2a0a8368c5",
   "metadata": {},
   "outputs": [],
   "source": [
    "const str = '1 day ago';"
   ]
  },
  {
   "cell_type": "markdown",
   "id": "de561e58-c063-4db2-a918-81524fc56372",
   "metadata": {},
   "source": [
    "检查是否以指定字符串开始："
   ]
  },
  {
   "cell_type": "code",
   "execution_count": 2,
   "id": "6de42ee0-d86e-4254-941e-9d8fd5b2cb13",
   "metadata": {},
   "outputs": [
    {
     "name": "stdout",
     "output_type": "stream",
     "text": [
      "\u001b[33mtrue\u001b[39m\n"
     ]
    }
   ],
   "source": [
    "str.startsWith('1');"
   ]
  },
  {
   "cell_type": "markdown",
   "id": "5378b22f-1844-497a-8bdf-620903af6e95",
   "metadata": {},
   "source": [
    "检查是否以指定字符串结束："
   ]
  },
  {
   "cell_type": "code",
   "execution_count": 3,
   "id": "afd70487-f173-4741-8a91-e01add783326",
   "metadata": {},
   "outputs": [
    {
     "name": "stdout",
     "output_type": "stream",
     "text": [
      "\u001b[33mtrue\u001b[39m\n"
     ]
    }
   ],
   "source": [
    "str.endsWith('ago');"
   ]
  },
  {
   "cell_type": "markdown",
   "id": "83025eb3-609d-47cc-b5a5-c122ea40ab6e",
   "metadata": {},
   "source": [
    "检查是否包含指定字符串："
   ]
  },
  {
   "cell_type": "code",
   "execution_count": 4,
   "id": "7c4daec3-18a9-4f6b-b5cb-2dd42b2ab873",
   "metadata": {},
   "outputs": [
    {
     "name": "stdout",
     "output_type": "stream",
     "text": [
      "\u001b[33mtrue\u001b[39m\n"
     ]
    }
   ],
   "source": [
    "str.includes('day');"
   ]
  },
  {
   "cell_type": "markdown",
   "id": "83e79416-410e-4475-823a-fec45e64b600",
   "metadata": {},
   "source": [
    "将字符串转换为数组："
   ]
  },
  {
   "cell_type": "code",
   "execution_count": 5,
   "id": "494f4924-8cc1-4cc4-af78-c9d123ef9a17",
   "metadata": {},
   "outputs": [
    {
     "name": "stdout",
     "output_type": "stream",
     "text": [
      "[ \u001b[32m'1'\u001b[39m, \u001b[32m'day'\u001b[39m, \u001b[32m'ago'\u001b[39m ]\n"
     ]
    }
   ],
   "source": [
    "str.split(' ');"
   ]
  },
  {
   "cell_type": "markdown",
   "id": "c7925792-2f96-4df8-ae43-ca878fa8cafc",
   "metadata": {},
   "source": [
    "获取指定索引处的字符："
   ]
  },
  {
   "cell_type": "code",
   "execution_count": 19,
   "id": "9a74e7d4-9052-46f1-9f1c-53a600e02a43",
   "metadata": {},
   "outputs": [
    {
     "name": "stdout",
     "output_type": "stream",
     "text": [
      "d\n"
     ]
    }
   ],
   "source": [
    "str.charAt(2);"
   ]
  },
  {
   "cell_type": "markdown",
   "id": "d0576a46-e48f-4f8b-be6c-8f93fc2cdfac",
   "metadata": {},
   "source": [
    "获取指定开始索引到结束索引之间的字符串："
   ]
  },
  {
   "cell_type": "code",
   "execution_count": 6,
   "id": "7a2fd44a-b4f2-47d8-9cbc-ce213f1bcf19",
   "metadata": {},
   "outputs": [
    {
     "name": "stdout",
     "output_type": "stream",
     "text": [
      "1 day ago\n"
     ]
    }
   ],
   "source": [
    "str.slice();"
   ]
  },
  {
   "cell_type": "code",
   "execution_count": 11,
   "id": "a5e61a4b-92da-47f6-9b86-120544bc4004",
   "metadata": {},
   "outputs": [
    {
     "name": "stdout",
     "output_type": "stream",
     "text": [
      "day ago\n"
     ]
    }
   ],
   "source": [
    "str.slice(2);"
   ]
  },
  {
   "cell_type": "code",
   "execution_count": 9,
   "id": "3ae262bb-9d53-4da3-86a2-e0d77992437a",
   "metadata": {},
   "outputs": [
    {
     "name": "stdout",
     "output_type": "stream",
     "text": [
      "1 day\n"
     ]
    }
   ],
   "source": [
    "str.slice(0, 5);"
   ]
  },
  {
   "cell_type": "code",
   "execution_count": 10,
   "id": "2554c842-4c5a-4e34-9d36-b51124dacda3",
   "metadata": {},
   "outputs": [
    {
     "name": "stdout",
     "output_type": "stream",
     "text": [
      "1 day\n"
     ]
    }
   ],
   "source": [
    "str.slice(0, -4);"
   ]
  },
  {
   "cell_type": "code",
   "execution_count": 12,
   "id": "6ba05924-89ab-4c3f-ae20-0eecc077beae",
   "metadata": {},
   "outputs": [
    {
     "name": "stdout",
     "output_type": "stream",
     "text": [
      "day ago\n"
     ]
    }
   ],
   "source": [
    "str.substring(2);"
   ]
  },
  {
   "cell_type": "code",
   "execution_count": 13,
   "id": "7ec6a5de-7d62-4e98-a584-94709da635b3",
   "metadata": {},
   "outputs": [
    {
     "name": "stdout",
     "output_type": "stream",
     "text": [
      "1 day\n"
     ]
    }
   ],
   "source": [
    "str.substring(0, 5);"
   ]
  },
  {
   "cell_type": "code",
   "execution_count": 14,
   "id": "26add272-df9d-434a-9f8a-1cc55b9dcea9",
   "metadata": {},
   "outputs": [
    {
     "name": "stdout",
     "output_type": "stream",
     "text": [
      "day ago\n"
     ]
    }
   ],
   "source": [
    "str.substr(2);"
   ]
  },
  {
   "cell_type": "code",
   "execution_count": 15,
   "id": "42c63026-1b3f-4e3a-bbcf-4b4637a7fce3",
   "metadata": {},
   "outputs": [
    {
     "name": "stdout",
     "output_type": "stream",
     "text": [
      "1 day\n"
     ]
    }
   ],
   "source": [
    "str.substr(0, 5);"
   ]
  },
  {
   "cell_type": "markdown",
   "id": "ae4115cf-7e90-429b-abe9-d419e86ba780",
   "metadata": {},
   "source": [
    "返回指定字符串的索引："
   ]
  },
  {
   "cell_type": "code",
   "execution_count": 16,
   "id": "f690b856-fac6-4fff-ae94-4e9127d3c9bb",
   "metadata": {},
   "outputs": [],
   "source": [
    "const file = 'example.ts.txt';"
   ]
  },
  {
   "cell_type": "code",
   "execution_count": 17,
   "id": "48a11ee2-a65e-4154-998b-bec0dfbf16bf",
   "metadata": {},
   "outputs": [
    {
     "name": "stdout",
     "output_type": "stream",
     "text": [
      "\u001b[33m7\u001b[39m\n"
     ]
    }
   ],
   "source": [
    "file.indexOf('.');"
   ]
  },
  {
   "cell_type": "code",
   "execution_count": 18,
   "id": "d80f83ae-410d-4a26-8464-dcf2f187608f",
   "metadata": {},
   "outputs": [
    {
     "name": "stdout",
     "output_type": "stream",
     "text": [
      "\u001b[33m10\u001b[39m\n"
     ]
    }
   ],
   "source": [
    "file.lastIndexOf('.');"
   ]
  },
  {
   "cell_type": "markdown",
   "id": "51076005-737e-4776-909f-dbc3b0bf3985",
   "metadata": {},
   "source": [
    "将字符转换为大写："
   ]
  },
  {
   "cell_type": "code",
   "execution_count": 20,
   "id": "1421dc35-48b9-4cf2-aaab-4a53123b44a1",
   "metadata": {},
   "outputs": [
    {
     "name": "stdout",
     "output_type": "stream",
     "text": [
      "1 DAY AGO\n"
     ]
    }
   ],
   "source": [
    "str.toUpperCase();"
   ]
  },
  {
   "cell_type": "markdown",
   "id": "97d2c4eb-a1a9-4176-aee7-e6dbd52a51dc",
   "metadata": {},
   "source": [
    "将字符转换为小写："
   ]
  },
  {
   "cell_type": "code",
   "execution_count": 21,
   "id": "d6b64c8b-8b7c-4fca-9bdd-3514cce3ba4f",
   "metadata": {},
   "outputs": [
    {
     "name": "stdout",
     "output_type": "stream",
     "text": [
      "1 day ago\n"
     ]
    }
   ],
   "source": [
    "str.toLowerCase();"
   ]
  }
 ],
 "metadata": {
  "kernelspec": {
   "display_name": "TypeScript",
   "language": "typescript",
   "name": "tslab"
  },
  "language_info": {
   "codemirror_mode": {
    "mode": "typescript",
    "name": "javascript",
    "typescript": true
   },
   "file_extension": ".ts",
   "mimetype": "text/typescript",
   "name": "typescript",
   "version": "3.7.2"
  }
 },
 "nbformat": 4,
 "nbformat_minor": 5
}
