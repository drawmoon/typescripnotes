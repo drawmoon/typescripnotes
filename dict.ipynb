{
 "cells": [
  {
   "cell_type": "code",
   "execution_count": 1,
   "id": "0dc777c2-f661-4612-a3bb-1fd23e2cabff",
   "metadata": {},
   "outputs": [
    {
     "name": "stdout",
     "output_type": "stream",
     "text": [
      "{ \u001b[32m'#1'\u001b[39m: \u001b[33mtrue\u001b[39m, \u001b[32m'#2'\u001b[39m: \u001b[33mfalse\u001b[39m }\n",
      "{ \u001b[32m'#1'\u001b[39m: \u001b[33mtrue\u001b[39m, \u001b[32m'#2'\u001b[39m: \u001b[33mfalse\u001b[39m }\n"
     ]
    }
   ],
   "source": [
    "const dict: { [key: string]: boolean } = {\n",
    "  ['#1']: true,\n",
    "  ['#2']: false,\n",
    "};\n",
    "\n",
    "console.log(dict);\n",
    "\n",
    "const dict2: Record<string, boolean> = {\n",
    "  ['#1']: true,\n",
    "  ['#2']: false,\n",
    "};\n",
    "\n",
    "console.log(dict2);"
   ]
  },
  {
   "cell_type": "markdown",
   "id": "1321d76f-7e77-4529-b275-248f6a7e62eb",
   "metadata": {},
   "source": [
    "获取字典的键和值："
   ]
  },
  {
   "cell_type": "code",
   "execution_count": 2,
   "id": "06da9ec4-fae6-4e35-bd64-3d173ba61116",
   "metadata": {},
   "outputs": [
    {
     "name": "stdout",
     "output_type": "stream",
     "text": [
      "[ \u001b[32m'#1'\u001b[39m, \u001b[32m'#2'\u001b[39m ]\n",
      "[ \u001b[33mtrue\u001b[39m, \u001b[33mfalse\u001b[39m ]\n"
     ]
    }
   ],
   "source": [
    "console.log(Object.keys(dict));\n",
    "console.log(Object.values(dict));"
   ]
  },
  {
   "cell_type": "markdown",
   "id": "6c5ea74d-fc30-43ac-8580-858b85526e2a",
   "metadata": {},
   "source": [
    "字典的迭代操作："
   ]
  },
  {
   "cell_type": "code",
   "execution_count": 12,
   "id": "00d4d789-441f-4eae-91ab-7ea39bf4d9ea",
   "metadata": {},
   "outputs": [
    {
     "name": "stdout",
     "output_type": "stream",
     "text": [
      "#1 \u001b[33mtrue\u001b[39m\n",
      "#2 \u001b[33mfalse\u001b[39m\n",
      "#1\n",
      "#2\n"
     ]
    }
   ],
   "source": [
    "// 在迭代中操作字典的键和值\n",
    "for (const [key, value] of Object.entries(dict)) {\n",
    "  console.log(key, value);\n",
    "}\n",
    "\n",
    "// 在迭代中操作字典的键\n",
    "for (const key in dict) {\n",
    "  console.log(key);   \n",
    "}"
   ]
  },
  {
   "cell_type": "markdown",
   "id": "80ff3a0f-8471-4fb0-8349-afed30dca66c",
   "metadata": {},
   "source": [
    "在迭代器中不能直接对字典进行 `of` 操作：\n",
    "\n",
    "```typescript\n",
    "for (const item of dict)\n",
    "\n",
    "// Type '{ [key: string]: boolean; }' must have a '[Symbol.iterator]()' method that returns an iterator.\n",
    "```"
   ]
  },
  {
   "cell_type": "markdown",
   "id": "a070f026-8bb9-4ece-a792-559b48022bf6",
   "metadata": {},
   "source": [
    "查看指定键的值："
   ]
  },
  {
   "cell_type": "code",
   "execution_count": 13,
   "id": "82e0c21d-4809-487e-8093-75b1a389913e",
   "metadata": {},
   "outputs": [
    {
     "name": "stdout",
     "output_type": "stream",
     "text": [
      "\u001b[33mtrue\u001b[39m\n"
     ]
    }
   ],
   "source": [
    "dict['#1'];"
   ]
  },
  {
   "cell_type": "markdown",
   "id": "af043565-5b6b-4d36-a8e3-e6c0b8cbd07c",
   "metadata": {},
   "source": [
    "修改指定键的值："
   ]
  },
  {
   "cell_type": "code",
   "execution_count": 15,
   "id": "bfff5612-4bfa-4aa7-bfbd-5796adadef85",
   "metadata": {},
   "outputs": [
    {
     "name": "stdout",
     "output_type": "stream",
     "text": [
      "{ \u001b[32m'#1'\u001b[39m: \u001b[33mfalse\u001b[39m, \u001b[32m'#2'\u001b[39m: \u001b[33mfalse\u001b[39m }\n"
     ]
    }
   ],
   "source": [
    "dict['#1'] = false;\n",
    "\n",
    "console.log(dict);"
   ]
  },
  {
   "cell_type": "markdown",
   "id": "e51dd109-0e27-4ef1-ac6c-86ffff5796f0",
   "metadata": {},
   "source": [
    "删除元素："
   ]
  },
  {
   "cell_type": "code",
   "execution_count": 16,
   "id": "28b41c91-f255-4f14-b966-c8c5a7b304e2",
   "metadata": {},
   "outputs": [
    {
     "name": "stdout",
     "output_type": "stream",
     "text": [
      "{ \u001b[32m'#2'\u001b[39m: \u001b[33mfalse\u001b[39m }\n"
     ]
    }
   ],
   "source": [
    "delete dict['#1'];\n",
    "\n",
    "console.log(dict);"
   ]
  }
 ],
 "metadata": {
  "kernelspec": {
   "display_name": "TypeScript",
   "language": "typescript",
   "name": "tslab"
  },
  "language_info": {
   "codemirror_mode": {
    "mode": "typescript",
    "name": "javascript",
    "typescript": true
   },
   "file_extension": ".ts",
   "mimetype": "text/typescript",
   "name": "typescript",
   "version": "3.7.2"
  }
 },
 "nbformat": 4,
 "nbformat_minor": 5
}
