{
 "cells": [
  {
   "cell_type": "code",
   "execution_count": 1,
   "id": "65c156b4-4eea-4836-9720-decb5c7ee6b7",
   "metadata": {},
   "outputs": [],
   "source": [
    "const fruits: string[] = ['Apple', 'Orange'];"
   ]
  },
  {
   "cell_type": "markdown",
   "id": "3dce6288-a7c6-4e1d-843d-fecd3090ca75",
   "metadata": {},
   "source": [
    "For："
   ]
  },
  {
   "cell_type": "code",
   "execution_count": 2,
   "id": "e3705db1-391a-4649-bba2-95acc751bd5b",
   "metadata": {},
   "outputs": [
    {
     "name": "stdout",
     "output_type": "stream",
     "text": [
      "\u001b[33m0\u001b[39m Apple\n",
      "\u001b[33m1\u001b[39m Orange\n"
     ]
    }
   ],
   "source": [
    "for (let i = 0; i < fruits.length; i++) {\n",
    "  console.log(i, fruits[i]);\n",
    "}"
   ]
  },
  {
   "cell_type": "markdown",
   "id": "0163d854-9b87-4340-a9a6-61c9d469ad2e",
   "metadata": {},
   "source": [
    "For-In："
   ]
  },
  {
   "cell_type": "code",
   "execution_count": 3,
   "id": "e93b9619-7079-4828-b233-72adbf7d82ea",
   "metadata": {},
   "outputs": [
    {
     "name": "stdout",
     "output_type": "stream",
     "text": [
      "0 Apple\n",
      "1 Orange\n"
     ]
    }
   ],
   "source": [
    "for (const i in fruits) {\n",
    "  console.log(i, fruits[i]);\n",
    "}"
   ]
  },
  {
   "cell_type": "markdown",
   "id": "dbfe21e6-f02f-4c73-b6ea-01c0cb50b75a",
   "metadata": {},
   "source": [
    "利用 `for in` 简单实现 `string format`："
   ]
  },
  {
   "cell_type": "code",
   "execution_count": 8,
   "id": "d98e980a-2115-4c24-8869-160b9287fbc2",
   "metadata": {},
   "outputs": [],
   "source": [
    "function format(str: string, ...args: string[]): string {\n",
    "  for (const i in args) {\n",
    "    str = str.replace(`{${i}}`, args[i]);\n",
    "  }\n",
    "    \n",
    "  return str;\n",
    "}"
   ]
  },
  {
   "cell_type": "code",
   "execution_count": 9,
   "id": "4034810a-f5d5-4824-9f75-9ff673ecbd38",
   "metadata": {},
   "outputs": [
    {
     "name": "stdout",
     "output_type": "stream",
     "text": [
      "The param \"Name\" cannot be null.\n"
     ]
    }
   ],
   "source": [
    "const msg = 'The param \"{0}\" cannot be null.';\n",
    "\n",
    "format(msg, 'Name');"
   ]
  },
  {
   "cell_type": "markdown",
   "id": "a57cb8be-872f-4075-b026-78e897b45e97",
   "metadata": {},
   "source": [
    "For-Of："
   ]
  },
  {
   "cell_type": "code",
   "execution_count": 4,
   "id": "687c9fdf-15dc-435d-b8f9-0df939d3644d",
   "metadata": {},
   "outputs": [
    {
     "name": "stdout",
     "output_type": "stream",
     "text": [
      "Apple\n",
      "Orange\n"
     ]
    }
   ],
   "source": [
    "for (const i of fruits) {\n",
    "  console.log(i);\n",
    "}"
   ]
  },
  {
   "cell_type": "markdown",
   "id": "bd77bbae-6422-42d7-bed7-9266fd8eaf61",
   "metadata": {},
   "source": [
    "ForEach："
   ]
  },
  {
   "cell_type": "code",
   "execution_count": 6,
   "id": "63896185-8dac-4662-bad7-fcaccf974175",
   "metadata": {},
   "outputs": [
    {
     "name": "stdout",
     "output_type": "stream",
     "text": [
      "Apple\n",
      "Orange\n"
     ]
    }
   ],
   "source": [
    "fruits.forEach((x) => {\n",
    "  console.log(x);\n",
    "});"
   ]
  }
 ],
 "metadata": {
  "kernelspec": {
   "display_name": "TypeScript",
   "language": "typescript",
   "name": "tslab"
  },
  "language_info": {
   "codemirror_mode": {
    "mode": "typescript",
    "name": "javascript",
    "typescript": true
   },
   "file_extension": ".ts",
   "mimetype": "text/typescript",
   "name": "typescript",
   "version": "3.7.2"
  }
 },
 "nbformat": 4,
 "nbformat_minor": 5
}
